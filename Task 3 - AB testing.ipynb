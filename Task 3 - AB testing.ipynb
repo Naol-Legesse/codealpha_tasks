{
 "cells": [
  {
   "cell_type": "markdown",
   "id": "36aba259",
   "metadata": {},
   "source": [
    "# A/B Testing Analysis"
   ]
  },
  {
   "cell_type": "markdown",
   "id": "3c65cfb3",
   "metadata": {},
   "source": [
    "## Step 1: Import Libraries and Dataset"
   ]
  },
  {
   "cell_type": "code",
   "execution_count": 5,
   "id": "7465e4e3",
   "metadata": {},
   "outputs": [
    {
     "data": {
      "text/html": [
       "<div>\n",
       "<style scoped>\n",
       "    .dataframe tbody tr th:only-of-type {\n",
       "        vertical-align: middle;\n",
       "    }\n",
       "\n",
       "    .dataframe tbody tr th {\n",
       "        vertical-align: top;\n",
       "    }\n",
       "\n",
       "    .dataframe thead th {\n",
       "        text-align: right;\n",
       "    }\n",
       "</style>\n",
       "<table border=\"1\" class=\"dataframe\">\n",
       "  <thead>\n",
       "    <tr style=\"text-align: right;\">\n",
       "      <th></th>\n",
       "      <th>user_id</th>\n",
       "      <th>group</th>\n",
       "      <th>converted</th>\n",
       "    </tr>\n",
       "  </thead>\n",
       "  <tbody>\n",
       "    <tr>\n",
       "      <th>0</th>\n",
       "      <td>1001</td>\n",
       "      <td>variant</td>\n",
       "      <td>0</td>\n",
       "    </tr>\n",
       "    <tr>\n",
       "      <th>1</th>\n",
       "      <td>1002</td>\n",
       "      <td>variant</td>\n",
       "      <td>0</td>\n",
       "    </tr>\n",
       "    <tr>\n",
       "      <th>2</th>\n",
       "      <td>1003</td>\n",
       "      <td>variant</td>\n",
       "      <td>1</td>\n",
       "    </tr>\n",
       "    <tr>\n",
       "      <th>3</th>\n",
       "      <td>1004</td>\n",
       "      <td>variant</td>\n",
       "      <td>0</td>\n",
       "    </tr>\n",
       "    <tr>\n",
       "      <th>4</th>\n",
       "      <td>1005</td>\n",
       "      <td>variant</td>\n",
       "      <td>0</td>\n",
       "    </tr>\n",
       "  </tbody>\n",
       "</table>\n",
       "</div>"
      ],
      "text/plain": [
       "   user_id    group  converted\n",
       "0     1001  variant          0\n",
       "1     1002  variant          0\n",
       "2     1003  variant          1\n",
       "3     1004  variant          0\n",
       "4     1005  variant          0"
      ]
     },
     "execution_count": 5,
     "metadata": {},
     "output_type": "execute_result"
    }
   ],
   "source": [
    "import pandas as pd\n",
    "import numpy as np\n",
    "from statsmodels.stats.proportion import proportions_ztest, proportion_confint\n",
    "import matplotlib.pyplot as plt\n",
    "import seaborn as sns\n",
    "\n",
    "# Create synthetic data\n",
    "control_data = pd.read_csv('contt.csv')\n",
    "variant_data = pd.read_csv('testt.csv')\n",
    "variant_data.head()"
   ]
  },
  {
   "cell_type": "code",
   "execution_count": 7,
   "id": "68c8fc56-938e-469a-87b2-3a627df33631",
   "metadata": {},
   "outputs": [
    {
     "data": {
      "text/html": [
       "<div>\n",
       "<style scoped>\n",
       "    .dataframe tbody tr th:only-of-type {\n",
       "        vertical-align: middle;\n",
       "    }\n",
       "\n",
       "    .dataframe tbody tr th {\n",
       "        vertical-align: top;\n",
       "    }\n",
       "\n",
       "    .dataframe thead th {\n",
       "        text-align: right;\n",
       "    }\n",
       "</style>\n",
       "<table border=\"1\" class=\"dataframe\">\n",
       "  <thead>\n",
       "    <tr style=\"text-align: right;\">\n",
       "      <th></th>\n",
       "      <th>user_id</th>\n",
       "      <th>group</th>\n",
       "      <th>converted</th>\n",
       "    </tr>\n",
       "  </thead>\n",
       "  <tbody>\n",
       "    <tr>\n",
       "      <th>0</th>\n",
       "      <td>1</td>\n",
       "      <td>control</td>\n",
       "      <td>0</td>\n",
       "    </tr>\n",
       "    <tr>\n",
       "      <th>1</th>\n",
       "      <td>2</td>\n",
       "      <td>control</td>\n",
       "      <td>1</td>\n",
       "    </tr>\n",
       "    <tr>\n",
       "      <th>2</th>\n",
       "      <td>3</td>\n",
       "      <td>control</td>\n",
       "      <td>0</td>\n",
       "    </tr>\n",
       "    <tr>\n",
       "      <th>3</th>\n",
       "      <td>4</td>\n",
       "      <td>control</td>\n",
       "      <td>0</td>\n",
       "    </tr>\n",
       "    <tr>\n",
       "      <th>4</th>\n",
       "      <td>5</td>\n",
       "      <td>control</td>\n",
       "      <td>0</td>\n",
       "    </tr>\n",
       "  </tbody>\n",
       "</table>\n",
       "</div>"
      ],
      "text/plain": [
       "   user_id    group  converted\n",
       "0        1  control          0\n",
       "1        2  control          1\n",
       "2        3  control          0\n",
       "3        4  control          0\n",
       "4        5  control          0"
      ]
     },
     "execution_count": 7,
     "metadata": {},
     "output_type": "execute_result"
    }
   ],
   "source": [
    "df = pd.concat([control_data, variant_data], ignore_index=True)\n",
    "df.head()"
   ]
  },
  {
   "cell_type": "markdown",
   "id": "f374e896",
   "metadata": {},
   "source": [
    "## Step 2: Summary Statistics"
   ]
  },
  {
   "cell_type": "code",
   "execution_count": 9,
   "id": "07bf353b",
   "metadata": {},
   "outputs": [
    {
     "data": {
      "text/html": [
       "<div>\n",
       "<style scoped>\n",
       "    .dataframe tbody tr th:only-of-type {\n",
       "        vertical-align: middle;\n",
       "    }\n",
       "\n",
       "    .dataframe tbody tr th {\n",
       "        vertical-align: top;\n",
       "    }\n",
       "\n",
       "    .dataframe thead th {\n",
       "        text-align: right;\n",
       "    }\n",
       "</style>\n",
       "<table border=\"1\" class=\"dataframe\">\n",
       "  <thead>\n",
       "    <tr style=\"text-align: right;\">\n",
       "      <th></th>\n",
       "      <th>Total Users</th>\n",
       "      <th>Total Conversions</th>\n",
       "      <th>Conversion Rate</th>\n",
       "    </tr>\n",
       "    <tr>\n",
       "      <th>group</th>\n",
       "      <th></th>\n",
       "      <th></th>\n",
       "      <th></th>\n",
       "    </tr>\n",
       "  </thead>\n",
       "  <tbody>\n",
       "    <tr>\n",
       "      <th>control</th>\n",
       "      <td>1000</td>\n",
       "      <td>124</td>\n",
       "      <td>0.124</td>\n",
       "    </tr>\n",
       "    <tr>\n",
       "      <th>variant</th>\n",
       "      <td>1000</td>\n",
       "      <td>152</td>\n",
       "      <td>0.152</td>\n",
       "    </tr>\n",
       "  </tbody>\n",
       "</table>\n",
       "</div>"
      ],
      "text/plain": [
       "         Total Users  Total Conversions  Conversion Rate\n",
       "group                                                   \n",
       "control         1000                124            0.124\n",
       "variant         1000                152            0.152"
      ]
     },
     "execution_count": 9,
     "metadata": {},
     "output_type": "execute_result"
    }
   ],
   "source": [
    "summary = df.groupby('group')['converted'].agg(['count', 'sum', 'mean'])\n",
    "summary.columns = ['Total Users', 'Total Conversions', 'Conversion Rate']\n",
    "summary"
   ]
  },
  {
   "cell_type": "markdown",
   "id": "bfd0ebc9",
   "metadata": {},
   "source": [
    "## Step 3: Perform Z-Test for Proportions"
   ]
  },
  {
   "cell_type": "code",
   "execution_count": 11,
   "id": "af07527f",
   "metadata": {},
   "outputs": [
    {
     "name": "stdout",
     "output_type": "stream",
     "text": [
      "successes: [124, 152]\n",
      "n_obs: [1000, 1000]\n",
      "Z-statistic: -1.8153\n",
      "P-value: 0.0695\n"
     ]
    }
   ],
   "source": [
    "successes = [summary.loc['control', 'Total Conversions'], summary.loc['variant', 'Total Conversions']]\n",
    "n_obs = [summary.loc['control', 'Total Users'], summary.loc['variant', 'Total Users']]\n",
    "z_stat, p_val = proportions_ztest(successes, n_obs)\n",
    "print('successes:',successes)\n",
    "print('n_obs:',n_obs)\n",
    "print(f\"Z-statistic: {z_stat:.4f}\")\n",
    "print(f\"P-value: {p_val:.4f}\")"
   ]
  },
  {
   "cell_type": "markdown",
   "id": "28e28d7d",
   "metadata": {},
   "source": [
    "## Step 4: Compute Confidence Intervals"
   ]
  },
  {
   "cell_type": "code",
   "execution_count": 13,
   "id": "3d800da7",
   "metadata": {},
   "outputs": [
    {
     "name": "stdout",
     "output_type": "stream",
     "text": [
      "Control 95% CI: (0.10357269907846171, 0.14442730092153827)\n",
      "Variant 95% CI: (0.12974806354152094, 0.17425193645847906)\n"
     ]
    }
   ],
   "source": [
    "ci_control = proportion_confint(successes[0], n_obs[0], method='normal')\n",
    "ci_variant = proportion_confint(successes[1], n_obs[1], method='normal')\n",
    "print(f\"Control 95% CI: {ci_control}\")\n",
    "print(f\"Variant 95% CI: {ci_variant}\")"
   ]
  },
  {
   "cell_type": "markdown",
   "id": "5af2d1d6",
   "metadata": {},
   "source": [
    "## Step 5: Visualization"
   ]
  },
  {
   "cell_type": "code",
   "execution_count": 15,
   "id": "8a21c26e",
   "metadata": {},
   "outputs": [
    {
     "name": "stderr",
     "output_type": "stream",
     "text": [
      "C:\\Users\\USER\\AppData\\Local\\Temp\\ipykernel_13952\\645473337.py:1: FutureWarning: \n",
      "\n",
      "The `ci` parameter is deprecated. Use `errorbar=('ci', 95)` for the same effect.\n",
      "\n",
      "  sns.barplot(data=df, x='group', y='converted', ci=95)\n"
     ]
    },
    {
     "data": {
      "image/png": "[encoded data removed]",
      "text/plain": [
       "<Figure size 640x480 with 1 Axes>"
      ]
     },
     "metadata": {},
     "output_type": "display_data"
    }
   ],
   "source": [
    "sns.barplot(data=df, x='group', y='converted', ci=95)\n",
    "plt.title(\"Conversion Rate by Group with 95% Confidence Interval\")\n",
    "plt.ylabel(\"Conversion Rate\")\n",
    "plt.xlabel(\"Group\")\n",
    "plt.show()"
   ]
  },
  {
   "cell_type": "markdown",
   "id": "c63118a0",
   "metadata": {},
   "source": [
    "## Step 6: Conclusion"
   ]
  },
  {
   "cell_type": "code",
   "execution_count": 17,
   "id": "c61bee2f",
   "metadata": {},
   "outputs": [
    {
     "name": "stdout",
     "output_type": "stream",
     "text": [
      "❌ No statistically significant difference. Keep current version.\n"
     ]
    }
   ],
   "source": [
    "if p_val < 0.05:\n",
    "    print(\"✅ Statistically significant difference. Recommend implementing the change.\")\n",
    "else:\n",
    "    print(\"❌ No statistically significant difference. Keep current version.\")"
   ]
  }
 ],
 "metadata": {
  "kernelspec": {
   "display_name": "Python 3 (ipykernel)",
   "language": "python",
   "name": "python3"
  },
  "language_info": {
   "codemirror_mode": {
    "name": "ipython",
    "version": 3
   },
   "file_extension": ".py",
   "mimetype": "text/x-python",
   "name": "python",
   "nbconvert_exporter": "python",
   "pygments_lexer": "ipython3",
   "version": "3.12.4"
  }
 },
 "nbformat": 4,
 "nbformat_minor": 5
}
